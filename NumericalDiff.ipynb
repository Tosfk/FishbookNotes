{
 "cells": [
  {
   "cell_type": "markdown",
   "id": "662e55b8",
   "metadata": {},
   "source": [
    "# 简单数值微分"
   ]
  },
  {
   "cell_type": "code",
   "execution_count": 52,
   "id": "d47486a2",
   "metadata": {},
   "outputs": [],
   "source": [
    "import numpy as np\n",
    "def numerical_diff(f, x):\n",
    "    h = 10e-50\n",
    "    return (f(x+h) - f(x)) / h"
   ]
  },
  {
   "cell_type": "markdown",
   "id": "f29a49a3",
   "metadata": {},
   "source": [
    "为了缩小h值，但可能产生舍入误差——省略小数精细部分。python中"
   ]
  },
  {
   "cell_type": "code",
   "execution_count": 53,
   "id": "5c639345",
   "metadata": {},
   "outputs": [
    {
     "data": {
      "text/plain": [
       "np.float32(0.0)"
      ]
     },
     "execution_count": 53,
     "metadata": {},
     "output_type": "execute_result"
    }
   ],
   "source": [
    "np.float32(1e-50)"
   ]
  },
  {
   "cell_type": "markdown",
   "id": "ebd303c5",
   "metadata": {},
   "source": [
    "可以看到会变成0.0，故应该使用10^-4.\n",
    "\n",
    "而第二个错误是，“真导数”是函数在x上的斜率，而函数中计算的史(x+h)到x的斜率，h不能真的无限趋于0.\n",
    "\n",
    "改进方法：使用中心差分。（上述方法为前向差分）"
   ]
  },
  {
   "cell_type": "code",
   "execution_count": 54,
   "id": "c6e5f422",
   "metadata": {},
   "outputs": [],
   "source": [
    "def numerical_diff(f, x):\n",
    "    h = 1e-4    # 0.0001\n",
    "    return (f(x+h) - f(x-h)) / (2*h)"
   ]
  },
  {
   "cell_type": "markdown",
   "id": "620bff7c",
   "metadata": {},
   "source": [
    "## 数值微分的例子"
   ]
  },
  {
   "cell_type": "code",
   "execution_count": 55,
   "id": "72c842d1",
   "metadata": {},
   "outputs": [],
   "source": [
    "def function_1(x):\n",
    "    return 0.01*x**2 + 0.1*x"
   ]
  },
  {
   "cell_type": "markdown",
   "id": "b284a6ab",
   "metadata": {},
   "source": [
    "绘制图像"
   ]
  },
  {
   "cell_type": "code",
   "execution_count": 56,
   "id": "c4d3e025",
   "metadata": {},
   "outputs": [
    {
     "data": {
      "image/png": "[encoded data removed]",
      "text/plain": [
       "<Figure size 640x480 with 1 Axes>"
      ]
     },
     "metadata": {},
     "output_type": "display_data"
    }
   ],
   "source": [
    "import numpy as np\n",
    "import matplotlib.pylab as plt\n",
    "\n",
    "x = np.arange(0.0, 20.0, 0.1)\n",
    "y = function_1(x)\n",
    "plt.xlabel(\"x\")\n",
    "plt.ylabel(\"f(x)\")\n",
    "plt.plot(x, y)\n",
    "plt.show()"
   ]
  },
  {
   "cell_type": "markdown",
   "id": "4de6302e",
   "metadata": {},
   "source": [
    "计算其在5和10点的导数"
   ]
  },
  {
   "cell_type": "code",
   "execution_count": 57,
   "id": "1fdc3dc5",
   "metadata": {},
   "outputs": [
    {
     "data": {
      "text/plain": [
       "0.1999999999990898"
      ]
     },
     "execution_count": 57,
     "metadata": {},
     "output_type": "execute_result"
    }
   ],
   "source": [
    "numerical_diff(function_1, 5)"
   ]
  },
  {
   "cell_type": "code",
   "execution_count": 58,
   "id": "2fe15a96",
   "metadata": {},
   "outputs": [
    {
     "data": {
      "text/plain": [
       "0.2999999999986347"
      ]
     },
     "execution_count": 58,
     "metadata": {},
     "output_type": "execute_result"
    }
   ],
   "source": [
    "numerical_diff(function_1, 10)"
   ]
  },
  {
   "cell_type": "markdown",
   "id": "848321ad",
   "metadata": {},
   "source": [
    "## 偏导数"
   ]
  },
  {
   "cell_type": "markdown",
   "id": "574b361c",
   "metadata": {},
   "source": [
    "对f(x0, x1) = x0^2 + x1^2"
   ]
  },
  {
   "cell_type": "code",
   "execution_count": 59,
   "id": "849eac52",
   "metadata": {},
   "outputs": [],
   "source": [
    "def function_2(x):\n",
    "    return x[0]**2 + x[1]**2    # or return np.sum(x**2)"
   ]
  },
  {
   "cell_type": "code",
   "execution_count": 60,
   "id": "d4c22329",
   "metadata": {},
   "outputs": [],
   "source": [
    "def function_tmp1(x0):\n",
    "    return x0*x0 + 4.0**2.0\n",
    "\n",
    "def function_tmp2(x1):\n",
    "    return 3.0**2.0 + x1*x1"
   ]
  },
  {
   "cell_type": "code",
   "execution_count": 61,
   "id": "27ae3b46",
   "metadata": {},
   "outputs": [
    {
     "data": {
      "text/plain": [
       "6.00000000000378"
      ]
     },
     "execution_count": 61,
     "metadata": {},
     "output_type": "execute_result"
    }
   ],
   "source": [
    "numerical_diff(function_tmp1, 3.0)"
   ]
  },
  {
   "cell_type": "code",
   "execution_count": 62,
   "id": "dd56438c",
   "metadata": {},
   "outputs": [
    {
     "data": {
      "text/plain": [
       "7.999999999999119"
      ]
     },
     "execution_count": 62,
     "metadata": {},
     "output_type": "execute_result"
    }
   ],
   "source": [
    "numerical_diff(function_tmp2, 4.0)"
   ]
  },
  {
   "cell_type": "markdown",
   "id": "65f3593a",
   "metadata": {},
   "source": [
    "# 梯度 gradient"
   ]
  },
  {
   "cell_type": "code",
   "execution_count": 63,
   "id": "82c2284d",
   "metadata": {},
   "outputs": [],
   "source": [
    "def numerical_gradient(f, x):\n",
    "    h = 1e-4\n",
    "    grad = np.zeros_like(x) # 生成和x形状相同的数组\n",
    "\n",
    "    for idx in range(x.size):\n",
    "        tmp_val = x[idx]\n",
    "\n",
    "        # f(x+h)的计算\n",
    "        x[idx] = tmp_val + h\n",
    "        fxh1 = f(x)\n",
    "\n",
    "        # f(x-h)的计算\n",
    "        x[idx] = tmp_val - h\n",
    "        fxh2 = f(x)\n",
    "        \n",
    "        grad[idx] = (fxh1 - fxh2) / (2*h)\n",
    "        x[idx] = tmp_val\n",
    "        \n",
    "    return grad\n"
   ]
  },
  {
   "cell_type": "code",
   "execution_count": 64,
   "id": "b215a4ae",
   "metadata": {},
   "outputs": [
    {
     "data": {
      "text/plain": [
       "array([6., 8.])"
      ]
     },
     "execution_count": 64,
     "metadata": {},
     "output_type": "execute_result"
    }
   ],
   "source": [
    "numerical_gradient(function_2, np.array([3.0, 4.0]))"
   ]
  },
  {
   "cell_type": "code",
   "execution_count": 65,
   "id": "02887f03",
   "metadata": {},
   "outputs": [
    {
     "data": {
      "text/plain": [
       "array([0., 4.])"
      ]
     },
     "execution_count": 65,
     "metadata": {},
     "output_type": "execute_result"
    }
   ],
   "source": [
    "numerical_gradient(function_2, np.array([0.0, 2.0]))"
   ]
  },
  {
   "cell_type": "code",
   "execution_count": 66,
   "id": "d8d5452d",
   "metadata": {},
   "outputs": [
    {
     "data": {
      "text/plain": [
       "array([6., 0.])"
      ]
     },
     "execution_count": 66,
     "metadata": {},
     "output_type": "execute_result"
    }
   ],
   "source": [
    "numerical_gradient(function_2, np.array([3.0, 0.0]))"
   ]
  },
  {
   "cell_type": "markdown",
   "id": "a5da7f48",
   "metadata": {},
   "source": [
    "梯度指示的方向是各点处的函数值减小最多的方向"
   ]
  },
  {
   "cell_type": "markdown",
   "id": "b72a00b5",
   "metadata": {},
   "source": [
    "## 梯度法"
   ]
  },
  {
   "attachments": {
    "image.png": {
     "image/png": "[encoded data removed]"
    }
   },
   "cell_type": "markdown",
   "id": "15370e7e",
   "metadata": {},
   "source": [
    "![image.png](attachment:image.png)"
   ]
  },
  {
   "cell_type": "markdown",
   "id": "07210cea",
   "metadata": {},
   "source": [
    "η 称为**学习率**，决定在一次学习中应该学习多少，以及在多大程度上更新参数。\n",
    "\n",
    "以上步骤反复执行，逐渐减少函数值。\n",
    "\n",
    "学习率需要事先确定数值，如0.001等。"
   ]
  },
  {
   "cell_type": "code",
   "execution_count": 67,
   "id": "9ed1887a",
   "metadata": {},
   "outputs": [],
   "source": [
    "def gradient_descent(f, init_x, lr=0.01,step_num=100):\n",
    "    x = init_x\n",
    "\n",
    "    for i in range(step_num):\n",
    "        grad = numerical_gradient(f, x)\n",
    "        x -= lr * grad\n",
    "\n",
    "    return x"
   ]
  },
  {
   "cell_type": "markdown",
   "id": "08583f35",
   "metadata": {},
   "source": [
    "参数f是要进行最优化的函数，init_x是初始值，lr是学习率learning rate，step_num是梯度法的重复次数。"
   ]
  },
  {
   "cell_type": "markdown",
   "id": "dc4b4d3b",
   "metadata": {},
   "source": [
    "问题：请用梯度法求func2的最小值。"
   ]
  },
  {
   "cell_type": "code",
   "execution_count": 68,
   "id": "3aec96ff",
   "metadata": {},
   "outputs": [
    {
     "data": {
      "text/plain": [
       "array([-6.11110793e-10, -8.14814391e-10])"
      ]
     },
     "execution_count": 68,
     "metadata": {},
     "output_type": "execute_result"
    }
   ],
   "source": [
    "init_x = np.array([-3.0, -4.0])\n",
    "gradient_descent(function_2, init_x=init_x, lr=0.1, step_num=100)"
   ]
  },
  {
   "cell_type": "markdown",
   "id": "10aad79d",
   "metadata": {},
   "source": [
    "初始值设置为(-3.0, -4.0),结果接近(0, 0)。\n",
    "\n",
    "经测试，学习率设置过大过小都无法得到好的结果。人工设定的参数为**超参数**，区别于神经网络的参数（权重和偏置）。"
   ]
  },
  {
   "cell_type": "markdown",
   "id": "cccc0302",
   "metadata": {},
   "source": [
    "## 神经网络的梯度\n",
    "实现一个名为simpleNet的类用以实现梯度的计算\n"
   ]
  },
  {
   "cell_type": "code",
   "execution_count": 69,
   "id": "297b3bf9",
   "metadata": {},
   "outputs": [],
   "source": [
    "import sys, os\n",
    "sys.path.append(os.pardir)\n",
    "import numpy as np\n",
    "from common.functions import softmax, cross_entropy_error\n",
    "from common.gradient import numerical_gradient\n",
    "\n",
    "class simpleNet:\n",
    "    def __init__(self):\n",
    "        self.W = np.random.randn(2, 3)    # 用高斯分布进行初始化\n",
    "    \n",
    "    def predic(self, x):\n",
    "        return np.dot(x, self.W)\n",
    "    \n",
    "    def loss(self, x, t):\n",
    "        z = self.predic(x)\n",
    "        y = softmax(z)\n",
    "        loss = cross_entropy_error(y, t)\n",
    "\n",
    "        return loss\n"
   ]
  },
  {
   "cell_type": "code",
   "execution_count": 70,
   "id": "9160ec84",
   "metadata": {},
   "outputs": [
    {
     "name": "stdout",
     "output_type": "stream",
     "text": [
      "[[ 1.01678349  0.25585656 -2.04626248]\n",
      " [-0.88743438 -1.14384567  1.41931674]]\n"
     ]
    }
   ],
   "source": [
    "net = simpleNet()\n",
    "print(net.W)"
   ]
  },
  {
   "cell_type": "code",
   "execution_count": 71,
   "id": "69ad385f",
   "metadata": {},
   "outputs": [
    {
     "name": "stdout",
     "output_type": "stream",
     "text": [
      "[-0.18862084 -0.87594716  0.04962757]\n"
     ]
    }
   ],
   "source": [
    "x = np.array([0.6, 0.9])\n",
    "p = net.predic(x)\n",
    "print(p)"
   ]
  },
  {
   "cell_type": "code",
   "execution_count": 72,
   "id": "ae28f24b",
   "metadata": {},
   "outputs": [
    {
     "data": {
      "text/plain": [
       "np.int64(2)"
      ]
     },
     "execution_count": 72,
     "metadata": {},
     "output_type": "execute_result"
    }
   ],
   "source": [
    "np.argmax(p) # 索引的最大值"
   ]
  },
  {
   "cell_type": "code",
   "execution_count": 73,
   "id": "47eed4e1",
   "metadata": {},
   "outputs": [
    {
     "data": {
      "text/plain": [
       "np.float64(0.7812999981518971)"
      ]
     },
     "execution_count": 73,
     "metadata": {},
     "output_type": "execute_result"
    }
   ],
   "source": [
    "t = np.array([0,0,1]) # 正确解标签\n",
    "net.loss(x,t)"
   ]
  },
  {
   "cell_type": "markdown",
   "id": "549bdb80",
   "metadata": {},
   "source": [
    "then求梯度\n",
    "\n",
    "W是个伪参数"
   ]
  },
  {
   "cell_type": "code",
   "execution_count": 74,
   "id": "e4780fef",
   "metadata": {},
   "outputs": [],
   "source": [
    "def f(W):\n",
    "    return net.loss(x, t)"
   ]
  },
  {
   "cell_type": "code",
   "execution_count": 75,
   "id": "704a6d00",
   "metadata": {},
   "outputs": [
    {
     "name": "stdout",
     "output_type": "stream",
     "text": [
      "[[ 0.2164546   0.10885911 -0.32531371]\n",
      " [ 0.32468189  0.16328867 -0.48797056]]\n"
     ]
    }
   ],
   "source": [
    "dW = numerical_gradient(f, net.W)\n",
    "print(dW)"
   ]
  },
  {
   "cell_type": "markdown",
   "id": "36be22fe",
   "metadata": {},
   "source": [
    "py中定义简单的函数，可以用lambda表示法\n",
    "\n",
    "使用了 Python 的 lambda 匿名函数，它的作用是定义一个简单的函数，而不用正式使用 def 来定义。lambda 是 Python 的关键字，用于创建 匿名函数（即没有名字的函数），通常用于简化代码，特别是在需要短小函数的地方（比如作为参数传递给高阶函数 map、filter 或 sorted）。\n",
    "\n",
    "```python\n",
    "lambda 参数: 返回值\n",
    "```"
   ]
  },
  {
   "cell_type": "code",
   "execution_count": 76,
   "id": "47cae806",
   "metadata": {},
   "outputs": [],
   "source": [
    "f = lambda w: net.loss(x, t)\n",
    "dW = numerical_gradient(f, net.W)"
   ]
  }
 ],
 "metadata": {
  "kernelspec": {
   "display_name": "py39",
   "language": "python",
   "name": "python3"
  },
  "language_info": {
   "codemirror_mode": {
    "name": "ipython",
    "version": 3
   },
   "file_extension": ".py",
   "mimetype": "text/x-python",
   "name": "python",
   "nbconvert_exporter": "python",
   "pygments_lexer": "ipython3",
   "version": "3.9.21"
  }
 },
 "nbformat": 4,
 "nbformat_minor": 5
}
