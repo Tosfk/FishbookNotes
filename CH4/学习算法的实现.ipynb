{
 "cells": [
  {
   "cell_type": "markdown",
   "id": "64c4a614",
   "metadata": {},
   "source": [
    "## 学习算法的实现\n",
    "**前提**\n",
    "神经网络存在合适的权重和偏置，调整权重和偏置以便拟合训练数据的过程成为学习。学习步骤分为四个步骤：\n",
    "\n",
    "**STEP1(mini-batch)**\n",
    "从训练数据中随机选出一部分数据，这部分数据成为mini-batch。我们的不表示减小mini-batch损失函数的值。\n",
    "\n",
    "**STEP2计算梯度**\n",
    "为了减小mini-batch损失函数的值，需要求出各个权重参数的梯度。梯度表示损失函数的值减小最多的方向。\n",
    "\n",
    "**STEP3更新参数**\n",
    "将权重参数沿梯度方向进行微小更新。\n",
    "\n",
    "**STEP4重复**\n",
    "重复步骤1，2，3\n",
    "\n",
    "因为使用的数据是mini batch数据，所以称为“随机梯度下降法”（stochastic gradient descent， SGD）\n",
    "\n",
    "## 实现手写数字识别的神经网络"
   ]
  },
  {
   "cell_type": "code",
   "execution_count": 1,
   "id": "2cbbd4f0",
   "metadata": {},
   "outputs": [],
   "source": [
    "import sys, os\n",
    "sys.path.append(os.pardir)\n",
    "from common.functions import *\n",
    "from common.gradient import numerical_gradient"
   ]
  },
  {
   "cell_type": "code",
   "execution_count": 2,
   "id": "b67345c8",
   "metadata": {},
   "outputs": [],
   "source": [
    "class TwoLayerNet:\n",
    "\n",
    "    def __init__(self, input_size, hidden_size, output_size, weight_init_std=0.01):\n",
    "        # 初始化权重\n",
    "        self.params = {}\n",
    "        self.params['W1'] = weight_init_std * np.random.randn(input_size, hidden_size)\n",
    "        self.params['b1'] = np.zeros(hidden_size)\n",
    "        self.params['W2'] = weight_init_std * np.random.randn(hidden_size, output_size)\n",
    "        self.params['b2'] = np.zeros(output_size)\n",
    "\n",
    "    def predict(self, x):\n",
    "        W1, W2 = self.params['W1'], self.params['W2']\n",
    "        b1, b2 = self.params['b1'], self.params['b2']\n",
    "    \n",
    "        a1 = np.dot(x, W1) + b1\n",
    "        z1 = sigmoid(a1)\n",
    "        a2 = np.dot(z1, W2) + b2\n",
    "        y = softmax(a2)\n",
    "        \n",
    "        return y\n",
    "        \n",
    "    # x:输入数据, t:监督数据\n",
    "    def loss(self, x, t):\n",
    "        y = self.predict(x)\n",
    "        \n",
    "        return cross_entropy_error(y, t)\n",
    "    \n",
    "    def accuracy(self, x, t):\n",
    "        y = self.predict(x)\n",
    "        y = np.argmax(y, axis=1)\n",
    "        t = np.argmax(t, axis=1)\n",
    "        \n",
    "        accuracy = np.sum(y == t) / float(x.shape[0])\n",
    "        return accuracy\n",
    "        \n",
    "    # x:输入数据, t:监督数据\n",
    "    def numerical_gradient(self, x, t):\n",
    "        loss_W = lambda W: self.loss(x, t)\n",
    "        \n",
    "        grads = {}\n",
    "        grads['W1'] = numerical_gradient(loss_W, self.params['W1'])\n",
    "        grads['b1'] = numerical_gradient(loss_W, self.params['b1'])\n",
    "        grads['W2'] = numerical_gradient(loss_W, self.params['W2'])\n",
    "        grads['b2'] = numerical_gradient(loss_W, self.params['b2'])\n",
    "        \n",
    "        return grads\n",
    "        \n",
    "    def gradient(self, x, t):\n",
    "        W1, W2 = self.params['W1'], self.params['W2']\n",
    "        b1, b2 = self.params['b1'], self.params['b2']\n",
    "        grads = {}\n",
    "        \n",
    "        batch_num = x.shape[0]\n",
    "        \n",
    "        # forward\n",
    "        a1 = np.dot(x, W1) + b1\n",
    "        z1 = sigmoid(a1)\n",
    "        a2 = np.dot(z1, W2) + b2\n",
    "        y = softmax(a2)\n",
    "        \n",
    "        # backward\n",
    "        dy = (y - t) / batch_num\n",
    "        grads['W2'] = np.dot(z1.T, dy)\n",
    "        grads['b2'] = np.sum(dy, axis=0)\n",
    "        \n",
    "        da1 = np.dot(dy, W2.T)\n",
    "        dz1 = sigmoid_grad(a1) * da1\n",
    "        grads['W1'] = np.dot(x.T, dz1)\n",
    "        grads['b1'] = np.sum(dz1, axis=0)\n",
    "\n",
    "        return grads"
   ]
  },
  {
   "cell_type": "markdown",
   "id": "36b5e300",
   "metadata": {},
   "source": [
    "**参数说明**\n",
    "\n",
    "input_size：输入层的神经元数量（即输入数据的特征维度）。\n",
    "\n",
    "hidden_size：隐藏层的神经元数量。\n",
    "\n",
    "output_size：输出层的神经元数量（如分类任务中的类别数）。\n",
    "\n",
    "weight_init_std：权重初始化的标准差（默认值 0.01），控制初始权重的随机范围。\n",
    "\n",
    "\n",
    "\n",
    "w1：输入层到隐藏层的权重矩阵，形状为 (input_size, hidden_size)。\n",
    "\n",
    "使用 高斯分布（正态分布）随机初始化，乘以 weight_init_std 缩小数值范围，避免初始权重过大导致梯度不稳定。\n",
    "\n",
    "例如：若 input_size=100，hidden_size=50，则 w1 是一个 100×50 的矩阵。\n",
    "\n",
    "b1：隐藏层的偏置向量，形状为 (hidden_size,)。\n",
    "\n",
    "初始化为全零向量（常见做法），因为偏置的初始值对模型影响较小。"
   ]
  },
  {
   "cell_type": "code",
   "execution_count": 3,
   "id": "3af2f334",
   "metadata": {},
   "outputs": [],
   "source": [
    "net = TwoLayerNet(input_size=784, hidden_size=100, output_size=10)"
   ]
  },
  {
   "cell_type": "code",
   "execution_count": 4,
   "id": "11360f7b",
   "metadata": {},
   "outputs": [],
   "source": [
    "x = np.random.rand(100, 784) # 伪输入数据\n",
    "y = net.predict(x)"
   ]
  },
  {
   "cell_type": "code",
   "execution_count": 5,
   "id": "f977558b",
   "metadata": {},
   "outputs": [],
   "source": [
    "#x = np.random.rand(100, 784) # 伪输入数据\n",
    "#t = np.random.rand(100, 10) # 伪正确解标签\n",
    "\n",
    "#grads = net.gradient(x, t)\n",
    "#print(grads)"
   ]
  },
  {
   "cell_type": "code",
   "execution_count": 6,
   "id": "3f0a61b3",
   "metadata": {},
   "outputs": [],
   "source": [
    "#x = np.random.rand(100, 784) \n",
    "#t = np.random.rand(100, 10) \n",
    "\n",
    "#grads = net.numerical_gradient(x, t)\n",
    "#print(grads)"
   ]
  }
 ],
 "metadata": {
  "kernelspec": {
   "display_name": "py39",
   "language": "python",
   "name": "python3"
  },
  "language_info": {
   "codemirror_mode": {
    "name": "ipython",
    "version": 3
   },
   "file_extension": ".py",
   "mimetype": "text/x-python",
   "name": "python",
   "nbconvert_exporter": "python",
   "pygments_lexer": "ipython3",
   "version": "3.9.21"
  }
 },
 "nbformat": 4,
 "nbformat_minor": 5
}
